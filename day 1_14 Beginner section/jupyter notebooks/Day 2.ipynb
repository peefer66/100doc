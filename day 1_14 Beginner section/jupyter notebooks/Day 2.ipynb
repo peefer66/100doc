{
 "cells": [
  {
   "cell_type": "markdown",
   "metadata": {},
   "source": [
    "# Day 2 - Understanding data types and manipulating strings\n",
    "\n"
   ]
  },
  {
   "cell_type": "markdown",
   "metadata": {},
   "source": [
    "## 2.0 - Add numbers\n",
    "Write a program that adds the digits in a 2 digit number.\n",
    "e.g. if the input was 35, then the output should be 3 + 5 = 8\n",
    "Warning. Do not change the code on lines 1-3. Your program should \n",
    " work for different inputs. e.g. any two-digit number.\n"
   ]
  },
  {
   "cell_type": "code",
   "execution_count": 1,
   "metadata": {},
   "outputs": [
    {
     "name": "stdout",
     "output_type": "stream",
     "text": [
      "Please enter a two digit number: 25\n",
      "7\n"
     ]
    }
   ],
   "source": [
    "num = input('Please enter a two digit number: ')\n",
    "#num0 = int(num[0])\n",
    "#num1 = int(num[1])\n",
    "\n",
    "print(int(num[0]) + int(num[1]))"
   ]
  },
  {
   "cell_type": "markdown",
   "metadata": {},
   "source": [
    "## 2.1 - BMI Calculator\n",
    "BMI Calculator\n",
    "\n",
    "Instructions\n",
    "Write a program that calculates the Body Mass Index (BMI) from a user's weight and height.\n",
    "\n",
    "The BMI is a measure of some's weight taking into account their height. e.g. If a tall person and a short person both weigh the same amount, the short person is usually more overweight.\n",
    "\n",
    "The BMI is calculated by dividing a person's weight (in kg) by the square of their height (in m):\n",
    "\n",
    "\n",
    "\n",
    "Warning you should convert the result to a whole number.\n",
    "\n",
    "Example Input\n",
    "weight = 80\n",
    "weight = 80\n",
    "height = 1.75\n",
    "height = 1.75\n",
    "Example Output\n",
    "80 ÷ (1.75 x 1.75) = 26.122448979591837"
   ]
  },
  {
   "cell_type": "code",
   "execution_count": 2,
   "metadata": {},
   "outputs": [
    {
     "name": "stdout",
     "output_type": "stream",
     "text": [
      "Please enter your height (m):1.8\n",
      "Please enter your weight (Kg):85\n",
      "Your BMI is: 26\n"
     ]
    }
   ],
   "source": [
    "height = float(input('Please enter your height (m):'))\n",
    "weight = float(input('Please enter your weight (Kg):'))\n",
    "\n",
    "# Calculate the BMI and convert to an integer\n",
    "bmi = int(weight/(height**2))\n",
    "\n",
    "print(f\"Your BMI is: {bmi}\")\n"
   ]
  },
  {
   "cell_type": "markdown",
   "metadata": {},
   "source": [
    "## 2.2 String manipulation and f-strings"
   ]
  },
  {
   "cell_type": "code",
   "execution_count": 7,
   "metadata": {},
   "outputs": [
    {
     "name": "stdout",
     "output_type": "stream",
     "text": [
      "0.6153846153846154\n",
      "0.62\n",
      "##### Floor #####\n",
      "0\n",
      "##### Modulu #####\n",
      "8\n",
      "####### Continuations ######\n",
      "2\n",
      "4\n"
     ]
    }
   ],
   "source": [
    "# round number\n",
    "print(8/13)\n",
    "print(round(8/13,2))\n",
    "# Floor\n",
    "print(\"##### Floor #####\")\n",
    "print(8//13)\n",
    "# Modulus\n",
    "print(\"##### Modulu #####\")\n",
    "print(8%13)\n",
    "# Continuations\n",
    "\n",
    "print(\"####### Continuations ######\")\n",
    "result = 2\n",
    "print(result)\n",
    "result*=2 # also / + - etc\n",
    "print(result)\n",
    "\n"
   ]
  },
  {
   "cell_type": "markdown",
   "metadata": {},
   "source": [
    "#### F-String"
   ]
  },
  {
   "cell_type": "code",
   "execution_count": 8,
   "metadata": {},
   "outputs": [
    {
     "name": "stdout",
     "output_type": "stream",
     "text": [
      "Your score is 0\n"
     ]
    }
   ],
   "source": [
    "score = 0\n",
    "height = 1.8\n",
    "name = 'Peter'\n",
    "\n",
    "print(\"Your score is \" + str(score)) # need to convert to a string to concatenate"
   ]
  },
  {
   "cell_type": "code",
   "execution_count": 9,
   "metadata": {},
   "outputs": [
    {
     "name": "stdout",
     "output_type": "stream",
     "text": [
      "your name is Peter, Your score is 0 your height 1.8\n"
     ]
    }
   ],
   "source": [
    "# f-string  - no need to convert data types\n",
    "print(f'your name is {name}, Your score is {score} and your height {height}')"
   ]
  },
  {
   "cell_type": "markdown",
   "metadata": {},
   "source": [
    "## 2.3 Your Life in weeks"
   ]
  },
  {
   "cell_type": "markdown",
   "metadata": {},
   "source": [
    "## Your Life in Weeks\n",
    "\n",
    "# Instructions\n",
    "\n",
    "I was reading this article by Tim Urban - Your Life in Weeks and realised just how little time we actually have.\n",
    "\n",
    "[https://waitbutwhy.com/2014/05/life-weeks.html](https://waitbutwhy.com/2014/05/life-weeks.html)\n",
    "\n",
    "Create a program using maths and f-Strings that tells us how many days, weeks, months we have left if we live until 90 years old. \n",
    "\n",
    "It will take your current age as the input and output a message with our time left in this format:\n",
    "\n",
    "> You have x days, y weeks, and z months left. \n",
    "\n",
    "Where x, y and z are replaced with the actual calculated numbers. \n",
    "\n",
    " \n",
    "\n",
    "**Warning** your output should match the Example Output format exactly, even the positions of the commas and full stops. \n",
    "\n",
    "# Example Input\n",
    "\n",
    "```\n",
    "56\n",
    "```\n",
    "\n",
    "# Example Output\n",
    "\n",
    "```\n",
    "You have 12410 days, 1768 weeks, and 408 months left.\n",
    "```\n",
    "\n",
    "e.g. When you hit **run**, this is what should happen:  \n",
    "\n",
    " \n",
    "![](https://cdn.fs.teachablecdn.com/RjqBViZQpyVTv7XY6cfA)\n",
    " \n",
    "\n",
    "# Hint\n",
    "\n",
    "1. There are 365 days in a year, 52 weeks in a year and 12 months in a year.\n",
    "2. Try copying the example output into your code and replace the relevant parts so that the sentence is formated the same way.\n"
   ]
  },
  {
   "cell_type": "code",
   "execution_count": 13,
   "metadata": {},
   "outputs": [
    {
     "name": "stdout",
     "output_type": "stream",
     "text": [
      "What is your age?54\n",
      "You have 36 years left: or 432 months : or 1872 weeks: or 13140 days\n"
     ]
    }
   ],
   "source": [
    "age = int(input('What is your age?'))\n",
    "years_left = 90-age\n",
    "days_left = years_left*365\n",
    "weeks_left = years_left*52\n",
    "months_left = years_left*12\n",
    "\n",
    "print(f'You have {years_left} years left: or {months_left} months : or {weeks_left} weeks: or {days_left} days')"
   ]
  },
  {
   "cell_type": "markdown",
   "metadata": {},
   "source": [
    "## 2.4 Tip calculator"
   ]
  },
  {
   "cell_type": "markdown",
   "metadata": {},
   "source": [
    "If the bill was $150.00, split between 5 people, with 12% tip. \n",
    "Each person should pay (150.00 / 5) * 1.12 = 33.6\n",
    "Format the result to 2 decimal places = 33.60\n",
    "Tip: There are 2 ways to round a number. You might have to do some Googling to solve this.💪\n",
    "HINT 1: https://www.google.com/search?q=how+to+round+number+to+2+decimal+places+python&oq=how+to+round+number+to+2+decimal\n",
    "HINT 2: https://www.kite.com/python/answers/how-to-limit-a-float-to-two-decimal-places-in-python"
   ]
  },
  {
   "cell_type": "code",
   "execution_count": 32,
   "metadata": {},
   "outputs": [
    {
     "name": "stdout",
     "output_type": "stream",
     "text": [
      "What was the total bill amount (£)?125.45\n",
      "What tip would you like to give?14\n",
      "How many people should the bill be split between?5\n",
      "<class 'str'>\n",
      "Each person should pay: £28.60\n"
     ]
    }
   ],
   "source": [
    "bill = float(input('What was the total bill amount (£)?'))\n",
    "percent_tip = int(input('What tip would you like to give?'))/100\n",
    "bill_total = bill + bill*percent_tip\n",
    "num_dinners = int(input('How many people should the bill be split between?'))\n",
    "per_person = round(bill_total/num_dinners,2)\n",
    "# convert to string formated to show 2dp\n",
    "final_bill = '{:.2f}'.format(per_person)\n",
    "\n",
    "print(f'Each person should pay: £{final_bill}')\n",
    "\n",
    "\n",
    "\n"
   ]
  },
  {
   "cell_type": "code",
   "execution_count": null,
   "metadata": {},
   "outputs": [],
   "source": []
  }
 ],
 "metadata": {
  "kernelspec": {
   "display_name": "Python 3",
   "language": "python",
   "name": "python3"
  },
  "language_info": {
   "codemirror_mode": {
    "name": "ipython",
    "version": 3
   },
   "file_extension": ".py",
   "mimetype": "text/x-python",
   "name": "python",
   "nbconvert_exporter": "python",
   "pygments_lexer": "ipython3",
   "version": "3.8.5"
  }
 },
 "nbformat": 4,
 "nbformat_minor": 4
}
