{
 "cells": [
  {
   "cell_type": "markdown",
   "metadata": {},
   "source": [
    "## Day-9"
   ]
  },
  {
   "cell_type": "code",
   "execution_count": 6,
   "metadata": {},
   "outputs": [
    {
     "name": "stdout",
     "output_type": "stream",
     "text": [
      "An error in a program that prevents the program from running as expected.\n"
     ]
    }
   ],
   "source": [
    "programming_dictionary = {\n",
    "                         \"Bug\": \"An error in a program that prevents the program from running as expected.\",\n",
    "                         \"Function\": \"A piece of code that you can easily call over and over again.\",\n",
    "                          }\n",
    "\n",
    "print(programming_dictionary['Bug'])\n"
   ]
  },
  {
   "cell_type": "code",
   "execution_count": 7,
   "metadata": {},
   "outputs": [
    {
     "name": "stdout",
     "output_type": "stream",
     "text": [
      "{'Bug': 'An error in a program that prevents the program from running as expected.', 'Function': 'A piece of code that you can easily call over and over again.', 'Loop': 'The action of doing something over and aver again'}\n"
     ]
    }
   ],
   "source": [
    "# add items to a dictionary\n",
    "programming_dictionary['Loop'] = 'The action of doing something over and aver again'\n",
    "print(programming_dictionary)\n"
   ]
  },
  {
   "cell_type": "code",
   "execution_count": 5,
   "metadata": {},
   "outputs": [
    {
     "name": "stdout",
     "output_type": "stream",
     "text": [
      "{}\n"
     ]
    }
   ],
   "source": [
    "empty_dictionary = {}\n",
    "\n",
    "# wipe a dictionary\n",
    "programming_dictionary = {}\n",
    "print(programming_dictionary)"
   ]
  },
  {
   "cell_type": "code",
   "execution_count": 8,
   "metadata": {},
   "outputs": [
    {
     "name": "stdout",
     "output_type": "stream",
     "text": [
      "{'Bug': 'A moth in your computer', 'Function': 'A piece of code that you can easily call over and over again.', 'Loop': 'The action of doing something over and aver again'}\n"
     ]
    }
   ],
   "source": [
    "# Edit a value\n",
    "programming_dictionary['Bug'] = 'A moth in your computer'\n",
    "print(programming_dictionary)"
   ]
  },
  {
   "cell_type": "code",
   "execution_count": 9,
   "metadata": {},
   "outputs": [
    {
     "name": "stdout",
     "output_type": "stream",
     "text": [
      "Bug\n",
      "Function\n",
      "Loop\n"
     ]
    }
   ],
   "source": [
    "for thing in programming_dictionary:\n",
    "    print(thing)"
   ]
  },
  {
   "cell_type": "code",
   "execution_count": 10,
   "metadata": {},
   "outputs": [
    {
     "name": "stdout",
     "output_type": "stream",
     "text": [
      "Bug\n",
      "Function\n",
      "Loop\n"
     ]
    }
   ],
   "source": [
    "for key in programming_dictionary:\n",
    "    print(key)"
   ]
  },
  {
   "cell_type": "code",
   "execution_count": 11,
   "metadata": {},
   "outputs": [
    {
     "name": "stdout",
     "output_type": "stream",
     "text": [
      "A moth in your computer\n",
      "A piece of code that you can easily call over and over again.\n",
      "The action of doing something over and aver again\n"
     ]
    }
   ],
   "source": [
    "for key in programming_dictionary:\n",
    "    print(programming_dictionary[key])"
   ]
  },
  {
   "cell_type": "markdown",
   "metadata": {},
   "source": [
    "## Grading Program\n",
    "Grading Program\n",
    "Instructions\n",
    "You have access to a database of student_scores in the format of a dictionary. The keys in student_scores are the names of the students and the values are their exam scores.\n",
    "\n",
    "Write a program that converts their scores to grades. By the end of your program, you should have a new dictionary called student_grades that should contain student names for keys and their grades for values. The final version of the student_grades dictionary will be checked.\n",
    "\n",
    "DO NOT modify lines 1-7 to change the existing student_scores dictionary.\n",
    "\n",
    "DO NOT write any print statements.\n",
    "\n",
    "This is the scoring criteria:\n",
    "\n",
    "Scores 91 - 100: Grade = \"Outstanding\"\n",
    "\n",
    "Scores 81 - 90: Grade = \"Exceeds Expectations\"\n",
    "\n",
    "Scores 71 - 80: Grade = \"Acceptable\"\n",
    "\n",
    "Scores 70 or lower: Grade = \"Fail\"\n",
    "\n",
    "Expected Output\n",
    "'{'Harry': 'Exceeds Expectations', 'Ron': 'Acceptable', 'Hermione': 'Outstanding', 'Draco': 'Acceptable', 'Neville': 'Fail'}'\n",
    "Hint\n",
    "Remember that looping through a Dictionary will only give you the keys and not the values.\n",
    "\n",
    "If in doubt as to why your code is not doing what you expected, you can always print out the intermediate values.\n",
    "\n",
    "At the end of your program, the print statement will show the final student_scores dictionary, do not change this.\n",
    "\n",
    "Test Your Code\n",
    "Before checking the solution, try copy-pasting your code into this repl:\n",
    "\n",
    "https://repl.it/@appbrewery/day-9-1-test-your-code\n",
    "\n",
    "This repl includes my testing code that will check if your code meets this assignment's objectives.\n",
    "\n",
    "Solution\n",
    "https://repl.it/@appbrewery/day-9-1-solution"
   ]
  },
  {
   "cell_type": "code",
   "execution_count": 2,
   "metadata": {},
   "outputs": [
    {
     "name": "stdout",
     "output_type": "stream",
     "text": [
      "{'Harry': 'Exceedes expectations', 'Ron': 'Acceptable', 'Hermione': 'Outstanding', 'Draco': 'Acceptable', 'Neville': 'Fail'}\n"
     ]
    }
   ],
   "source": [
    "student_scores = {\n",
    "  \"Harry\": 81,\n",
    "  \"Ron\": 78,\n",
    "  \"Hermione\": 99, \n",
    "  \"Draco\": 74,\n",
    "  \"Neville\": 62,\n",
    "}\n",
    "# 🚨 Don't change the code above 👆\n",
    "\n",
    "#TODO-1: Create an empty dictionary called student_grades.\n",
    "student_grades = {}\n",
    "\n",
    "\n",
    "#TODO-2: Write your code below to add the grades to student_grades.👇\n",
    "for key in student_scores:\n",
    "    if student_scores[key] > 90:\n",
    "        student_grades[key] = 'Outstanding'\n",
    "    elif student_scores[key] >80:\n",
    "            student_grades[key] = 'Exceedes expectations'\n",
    "    elif student_scores[key] > 70:\n",
    "            student_grades[key] = 'Acceptable'\n",
    "    else:\n",
    "        student_grades[key] = 'Fail'\n",
    "        \n",
    "        \n",
    "\n",
    "# 🚨 Don't change the code below 👇\n",
    "print(student_grades)\n",
    "\n",
    "\n",
    "\n",
    "\n",
    "\n"
   ]
  },
  {
   "cell_type": "code",
   "execution_count": null,
   "metadata": {},
   "outputs": [],
   "source": [
    "# Nested dictionary\n",
    "\n",
    "# List with a dictionary\n",
    "travel_log= {\n",
    "             'France': ['Paris', 'Lyon', 'Dijon'],\n",
    "             'Germany':['Berlin', 'Hamberg', 'Stuttgart']\n",
    "             }\n",
    "\n",
    "print(travel_log)\n",
    "\n"
   ]
  },
  {
   "cell_type": "code",
   "execution_count": 8,
   "metadata": {},
   "outputs": [],
   "source": [
    "# Dictionary in a dictionary\n",
    "\n",
    "travel_log = {\n",
    "             'France': {'cities_visited':['Paris', 'Lyon', 'Dijon'], 'total_visits':12},\n",
    "             'Germany':{'cities_visited':['Berlin', 'Hamberg', 'Stuttgart'],'total_visits':12}\n",
    "             }\n",
    "\n"
   ]
  },
  {
   "cell_type": "code",
   "execution_count": 11,
   "metadata": {},
   "outputs": [
    {
     "name": "stdout",
     "output_type": "stream",
     "text": [
      "['Paris', 'Lyon', 'Dijon']\n"
     ]
    }
   ],
   "source": [
    "# Dictionary inside a list\n",
    "\n",
    "travel_log = [\n",
    "            {\n",
    "                'country':'France',\n",
    "                'cities_visited':['Paris', 'Lyon', 'Dijon'],\n",
    "                'total_visits':12\n",
    "            },\n",
    "    \n",
    "             {\n",
    "                 'country':'Germany',\n",
    "                 'cities_visited':['Berlin', 'Hamberg', 'Stuttgart'],\n",
    "                 'total_visits':5\n",
    "             }\n",
    "             ]\n",
    "\n",
    "print(travel_log[0]['cities_visited'])"
   ]
  },
  {
   "cell_type": "markdown",
   "metadata": {},
   "source": [
    "## 9.2 Dictionary in list excercise\n",
    "\n",
    "Dictionary in List\n",
    "Instructions\n",
    "You are going to write a program that adds to a travel_log. You can see a travel_log which is a List that contains 2 Dictionaries.\n",
    "\n",
    "Write a function that will work with the following line of code on line 21 to add the entry for Russia to the travel_log.\n",
    "\n",
    "add_new_country(\"Russia\", 2, [\"Moscow\", \"Saint Petersburg\"])\n",
    "You've visited Russia 2 times.\n",
    "\n",
    "You've been to Moscow and Saint Petersburg.\n",
    "\n",
    "DO NOT modify the travel_log directly. You need to create a function that modifies it.\n",
    "\n",
    "Hint\n",
    "Look at the function call above to see what the name of the function should be.\n",
    "\n",
    "The inputs for the function are positional arguments. The order is very important.\n",
    "\n",
    "Feel free to choose your own parameter names.\n",
    "\n",
    "Test Your Code\n",
    "Before checking the solution, try copy-pasting your code into this repl:\n",
    "\n",
    "https://repl.it/@appbrewery/day-9-2-test-your-code\n",
    "\n",
    "This repl includes my testing code that will check if your code meets this assignment's objectives.\n",
    "\n",
    "Solution\n",
    "https://repl.it/@appbrewery/day-9-2-solution"
   ]
  },
  {
   "cell_type": "code",
   "execution_count": 1,
   "metadata": {
    "scrolled": true
   },
   "outputs": [
    {
     "name": "stdout",
     "output_type": "stream",
     "text": [
      "[{'country': 'France', 'visits': 12, 'cities': ['Paris', 'Lille', 'Dijon']}, {'country': 'Germany', 'visits': 5, 'cities': ['Berlin', 'Hamburg', 'Stuttgart']}, {'country': 'Russia', 'visits': 2, 'cities': ['Moscow', 'Saint Petersburg']}]\n"
     ]
    }
   ],
   "source": [
    "travel_log = [\n",
    "{\n",
    "  \"country\": \"France\",\n",
    "  \"visits\": 12,\n",
    "  \"cities\": [\"Paris\", \"Lille\", \"Dijon\"]\n",
    "},\n",
    "{\n",
    "  \"country\": \"Germany\",\n",
    "  \"visits\": 5,\n",
    "  \"cities\": [\"Berlin\", \"Hamburg\", \"Stuttgart\"]\n",
    "},\n",
    "]\n",
    "\n",
    "#🚨 Do NOT change the code above\n",
    "\n",
    "#TODO: Write the function that will allow new countries\n",
    "#to be added to the travel_log. 👇\n",
    "def add_new_country(country_visited, times_visited, cities_visited):\n",
    "    new_country = {}\n",
    "    \n",
    "    \n",
    "    new_country['country'] = country_visited\n",
    "    new_country['visits'] =  times_visited\n",
    "    new_country['cities']= cities_visited\n",
    "    \n",
    "    travel_log.append(new_country)\n",
    "\n",
    "\n",
    "\n",
    "\n",
    "#🚨 Do not change the code below\n",
    "add_new_country(\"Russia\", 2, [\"Moscow\", \"Saint Petersburg\"])\n",
    "print(travel_log)"
   ]
  },
  {
   "cell_type": "markdown",
   "metadata": {},
   "source": [
    "## Secret auction"
   ]
  },
  {
   "attachments": {
    "image.png": {
     "image/png": "[encoded data removed]"
    }
   },
   "cell_type": "markdown",
   "metadata": {},
   "source": [
    "![image.png](attachment:image.png)"
   ]
  },
  {
   "cell_type": "code",
   "execution_count": null,
   "metadata": {},
   "outputs": [],
   "source": []
  },
  {
   "cell_type": "raw",
   "metadata": {},
   "source": []
  },
  {
   "cell_type": "code",
   "execution_count": 11,
   "metadata": {},
   "outputs": [
    {
     "name": "stdout",
     "output_type": "stream",
     "text": [
      "The winning bidder is peter with a bid of £500\n"
     ]
    }
   ],
   "source": [
    "from IPython.display import clear_output\n",
    "\n",
    "another_bidder = True # flag\n",
    "\n",
    "key_list=[]# list the key values from the dictionary ie names\n",
    "value_list = [] # List the values from the dictionary\n",
    "bidder = {} \n",
    "\n",
    "while another_bidder:\n",
    "    name = input('Enter your name \\n')\n",
    "    clear_output(wait=True)\n",
    "    bid= int(input('enter your bid (£) \\n'))\n",
    "    clear_output(wait=True)\n",
    "    # populate the dictionary\n",
    "    bidder[name] = bid\n",
    "    \n",
    "    # Add another bidder?\n",
    "    add_another_bidder = input('Another bidder? (Y/N) \\n').lower()\n",
    "    \n",
    "    if add_another_bidder == 'n':\n",
    "        clear_output(wait=True)\n",
    "        # itterate through the dict and popu;ate the two lists\n",
    "        for key, value in bidder.items():\n",
    "            key_list.append(key)\n",
    "            value_list.append(value)\n",
    "        \n",
    "        another_bidder = False\n",
    "        max_value = max(value_list)\n",
    "        max_bidder= key_list[value_list.index(max_value)]\n",
    "        \n",
    "        print(f'The winning bidder is {max_bidder} with a bid of £{max_value}')  \n",
    "    else:\n",
    "        clear_output(wait=True)\n",
    "   "
   ]
  },
  {
   "cell_type": "markdown",
   "metadata": {},
   "source": [
    "## Alternative\n",
    "no need to create lists. grab values direct from the dictionary using the max function"
   ]
  },
  {
   "cell_type": "code",
   "execution_count": null,
   "metadata": {},
   "outputs": [
    {
     "name": "stdout",
     "output_type": "stream",
     "text": [
      "The winning bidder is peter with a bid of £500\n"
     ]
    }
   ],
   "source": [
    "from IPython.display import clear_output\n",
    "\n",
    "another_bidder = True # flag\n",
    "\n",
    "key_list=[]# list the key values from the dictionary ie names\n",
    "value_list = [] # List the values from the dictionary\n",
    "bidder = {} \n",
    "\n",
    "while another_bidder:\n",
    "    name = input('Enter your name \\n')\n",
    "    clear_output(wait=True)\n",
    "    bid= int(input('enter your bid (£) \\n'))\n",
    "    clear_output(wait=True)\n",
    "    # populate the dictionary\n",
    "    bidder[name] = bid\n",
    "    \n",
    "    # Add another bidder?\n",
    "    add_another_bidder = input('Another bidder? (Y/N) \\n').lower()\n",
    "    \n",
    "    if add_another_bidder == 'n':\n",
    "        clear_output(wait=True)\n",
    "        # iterate through the dictionary to get the max value\n",
    "        max_bidder = max(bidder, key=bidder.get)\n",
    "        max_value = bidder[max_bidder]\n",
    "        \n",
    "        print(f'The winning bidder is {max_bidder} with a bid of £{max_value}')  \n",
    "    else:\n",
    "        clear_output(wait=True)"
   ]
  },
  {
   "cell_type": "markdown",
   "metadata": {},
   "source": [
    "## Udemy solution"
   ]
  },
  {
   "cell_type": "code",
   "execution_count": null,
   "metadata": {},
   "outputs": [],
   "source": [
    "from replit import clear\n",
    "from art import logo\n",
    "print(logo)\n",
    "\n",
    "bids = {}\n",
    "bidding_finished = False\n",
    "\n",
    "def find_highest_bidder(bidding_record):\n",
    "    \n",
    "    highest_bid = 0\n",
    "    winner = \"\"\n",
    "    # bidding_record = {\"Angela\": 123, \"James\": 321}\n",
    "    for bidder in bidding_record:\n",
    "        bid_amount = bidding_record[bidder]\n",
    "        if bid_amount > highest_bid:\n",
    "            \n",
    "            highest_bid = bid_amount\n",
    "            winner = bidder\n",
    "            print(f\"The winner is {winner} with a bid of ${highest_bid}\")\n",
    "\n",
    "while not bidding_finished:\n",
    "    name = input(\"What is your name?: \")\n",
    "    price = int(input(\"What is your bid?: $\"))\n",
    "    bids[name] = price\n",
    "    should_continue = input(\"Are there any other bidders? Type 'yes or 'no'.\\n\")\n",
    "    if should_continue == \"no\":\n",
    "        bidding_finished = True\n",
    "        find_highest_bidder(bids)\n",
    "    elif should_continue == \"yes\":\n",
    "        clear()\n",
    "  \n"
   ]
  }
 ],
 "metadata": {
  "kernelspec": {
   "display_name": "Python 3",
   "language": "python",
   "name": "python3"
  },
  "language_info": {
   "codemirror_mode": {
    "name": "ipython",
    "version": 3
   },
   "file_extension": ".py",
   "mimetype": "text/x-python",
   "name": "python",
   "nbconvert_exporter": "python",
   "pygments_lexer": "ipython3",
   "version": "3.8.5"
  }
 },
 "nbformat": 4,
 "nbformat_minor": 4
}
