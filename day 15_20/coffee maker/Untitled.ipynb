{
 "cells": [
  {
   "cell_type": "code",
   "execution_count": 9,
   "metadata": {},
   "outputs": [
    {
     "name": "stdout",
     "output_type": "stream",
     "text": [
      "esspresso\n",
      "latte\n",
      "cappuccino\n"
     ]
    }
   ],
   "source": [
    "menu = {\n",
    "        'esspresso':{'ingredients': {'water':100,'coffee':100 }, 'cost':2.0},\n",
    "        'latte':{'ingredients':{'water':100, 'milk':100,'coffee':100}, 'cost':2.5},\n",
    "        'cappuccino':{'ingredients':{'water':100, 'milk':100,'coffee':100}, 'cost':3.0}\n",
    "    }\n",
    "\n",
    "ingredient_stock = {'water':10,'milk':100,'coffee':100}\n",
    "\n",
    "for key in menu.keys():\n",
    "    print(key)"
   ]
  },
  {
   "cell_type": "code",
   "execution_count": 10,
   "metadata": {},
   "outputs": [
    {
     "name": "stdout",
     "output_type": "stream",
     "text": [
      "Not enough stuff\n",
      "You have enough stuff\n"
     ]
    }
   ],
   "source": [
    "for key, value in menu['esspresso']['ingredients'].items():\n",
    "    if value > ingredient_stock[key]:\n",
    "        print('Not enough stuff')\n",
    "    else:\n",
    "        print('You have enough stuff')"
   ]
  },
  {
   "cell_type": "code",
   "execution_count": null,
   "metadata": {},
   "outputs": [
    {
     "name": "stdout",
     "output_type": "stream",
     "text": [
      "What coffee would you like (Espresso / Latte / Cappuccino): latte\n",
      "Hello\n"
     ]
    }
   ],
   "source": [
    "def quantity_ingredients(menu_dict, coffee_selection, amount_ingredients):\n",
    "    '''Check to determine if there is enough mterial\n",
    "       for the selected coffee. if there is an updated ingredient \n",
    "       stock is returned. if not then a message telling the user \n",
    "       that it cannot make selected coffee\n",
    "    '''\n",
    "    print('Hello')\n",
    "    for key,value in menu_dict[coffee_selection]['ingredients'].items():\n",
    "        if value > amount_ingredients[key]:\n",
    "            return key            \n",
    "        else:\n",
    "            amount_ingredients[key] = value\n",
    "\n",
    "    return amount_ingredients\n",
    "            \n",
    "    \n",
    "\n",
    "def main():\n",
    "    ''' The main function nfor the coffee making machine.\n",
    "        The user selects the coffee or Report or Off\n",
    "        Check to see if there is enough ingredients, if not customer is advised\n",
    "        Customer is asked for coins penny nickle dime quarters\n",
    "        ingredients are de-stocked\n",
    "        coffee given\n",
    "        change given\n",
    "     '''\n",
    "\n",
    "    # Menu of the types of coffee available\n",
    "    menu = {\n",
    "        'espresso':{'ingredients': {'water':0,'coffee':100 }, 'cost':2.0},\n",
    "        'latte':{'ingredients':{'water':100, 'milk':100,'coffee':100}, 'cost':2.5},\n",
    "        'cappuccino':{'ingredients':{'water':100, 'milk':100,'coffee':100}, 'cost':3.0}\n",
    "    }\n",
    "\n",
    "    ingredient_stock = {'water':10,\n",
    "                        'milk':10,\n",
    "                        'coffee':10}\n",
    "    penny = 1 # USA coins\n",
    "    nickle = 5\n",
    "    dime = 10\n",
    "    quarter = 25\n",
    "    stop = False # Boolean to break the loop\n",
    "        \n",
    "    # Main loop for the coffee machine\n",
    "    while not stop:\n",
    "        selection = input('What coffee would you like (Espresso / Latte / Cappuccino): ').lower()\n",
    "        \n",
    "        # Selection\n",
    "        if selection == 'off':\n",
    "            stop = True\n",
    "            print('Powering Off...')\n",
    "        elif selection == 'report':\n",
    "            print(f\"Water: {ingredient_stock['water']}mls\")\n",
    "            print(f\"Milk: {ingredient_stock['milk']}mls\")\n",
    "            print(f\"Coffee: {ingredient_stock['coffee']}grams\")\n",
    "        else:\n",
    "            result = quantity_ingredients(menu,selection,ingredient_stock)\n",
    "\n",
    "           \n",
    "                    \n",
    "        \n",
    "        \n",
    "main()\n",
    "\n"
   ]
  },
  {
   "cell_type": "code",
   "execution_count": null,
   "metadata": {},
   "outputs": [],
   "source": []
  }
 ],
 "metadata": {
  "kernelspec": {
   "display_name": "Python 3",
   "language": "python",
   "name": "python3"
  },
  "language_info": {
   "codemirror_mode": {
    "name": "ipython",
    "version": 3
   },
   "file_extension": ".py",
   "mimetype": "text/x-python",
   "name": "python",
   "nbconvert_exporter": "python",
   "pygments_lexer": "ipython3",
   "version": "3.8.5"
  }
 },
 "nbformat": 4,
 "nbformat_minor": 4
}
