{
 "cells": [
  {
   "cell_type": "markdown",
   "metadata": {},
   "source": [
    "https://stackoverflow.com/questions/8347048/how-to-convert-string-to-title-case-in-python"
   ]
  },
  {
   "cell_type": "code",
   "execution_count": 7,
   "metadata": {},
   "outputs": [
    {
     "name": "stdout",
     "output_type": "stream",
     "text": [
      "Peter Fieldhouse\n"
     ]
    }
   ],
   "source": [
    "def format_name(f_name, l_name):\n",
    "    formated_f_name = f_name.title()\n",
    "    formated_l_name = l_name.title()\n",
    "    \n",
    "    return f'{formated_f_name} {formated_l_name}'\n",
    "\n",
    "print(format_name('peter', 'fieldhouse'))"
   ]
  },
  {
   "cell_type": "markdown",
   "metadata": {},
   "source": [
    "## Days in Month\n",
    "## Instructions\n",
    "In the starting code, you'll find the solution from the Leap Year challenge. First, convert this function is_leap() so that instead of printing \"Leap year.\" or \"Not leap year.\" it should return True if it is a leap year and return False if it is not a leap year.\n",
    "\n",
    "You are then going to create a function called days_in_month() which will take a year and a month as inputs, e.g.\n",
    "\n",
    "days_in_month(year=2022, month=2)\n",
    "And it will use this information to work out the number of days in the month, then return that as the output, e.g.:\n",
    "\n",
    "28\n",
    "The List month_days contains the number of days in a month from January to December for a non-leap year. A leap year has 29 days in February.\n",
    "\n",
    "Hint\n",
    "Look at the function call at the bottom of the code to see the positional arguments. The order is very important.\n",
    "\n",
    "Feel free to choose your own parameter names.\n",
    "\n",
    "Remember that month_days is a List and Lists in Python start at position 0. So the number of days in January is month_days[0]\n",
    "\n",
    "Be careful with indentation.\n",
    "\n",
    "Test Your Code\n",
    "Before checking the solution, try copy-pasting your code into this repl:\n",
    "\n",
    "https://repl.it/@appbrewery/day-10-1-test-your-code\n",
    "\n",
    "This repl includes my testing code that will check if your code meets this assignment's objectives.\n",
    "\n",
    "Solution\n",
    "https://repl.it/@appbrewery/day-10-1-solution"
   ]
  },
  {
   "cell_type": "code",
   "execution_count": 13,
   "metadata": {},
   "outputs": [
    {
     "name": "stdout",
     "output_type": "stream",
     "text": [
      "Enter a year: 2020\n",
      "Enter a month: 3\n",
      "31\n"
     ]
    }
   ],
   "source": [
    "def is_leap(year):\n",
    "    if year % 4 == 0:\n",
    "        if year % 100 == 0:\n",
    "                \n",
    "            if year % 400 == 0:\n",
    "                return True\n",
    "            else:\n",
    "                return False\n",
    "        else:\n",
    "            return True\n",
    "    else:\n",
    "        return False\n",
    " \n",
    "        \n",
    "def days_in_month(year, month):\n",
    "    \"\"\"Test the month for the number of days, adjusting for leap years\"\"\"\n",
    "    month_days = [31, 28, 31, 30, 31, 30, 31, 31, 30, 31, 30, 31]\n",
    "    \n",
    "    if month <1 or month > 12:\n",
    "        return 'Month should be 1 to 12'\n",
    "    \n",
    "    leap_year = is_leap(year)\n",
    "    if leap_year and month == 2:\n",
    "        return 29\n",
    "    return month_days[month-1]\n",
    "   \n",
    "  \n",
    "#🚨 Do NOT change any of the code below \n",
    "year = int(input(\"Enter a year: \"))\n",
    "month = int(input(\"Enter a month: \"))\n",
    "days = days_in_month(year, month)\n",
    "print(days)"
   ]
  },
  {
   "cell_type": "markdown",
   "metadata": {},
   "source": [
    "## Calculator"
   ]
  },
  {
   "cell_type": "code",
   "execution_count": 25,
   "metadata": {},
   "outputs": [
    {
     "name": "stdout",
     "output_type": "stream",
     "text": [
      "Enter the first number 255\n",
      "Enter the second number 258\n",
      "Enter operator. Select from the following\n",
      "+\n",
      "-\n",
      "*\n",
      "/\n",
      "\n",
      "*\n",
      "255 * 258 = 65790\n",
      "Another calculation? (y/n) n\n"
     ]
    }
   ],
   "source": [
    "\n",
    "def add(n1, n2):\n",
    "    '''Takes two mnumbers and adds them'''\n",
    "    return n1 + n2\n",
    "\n",
    "def subtract(n1, n2):\n",
    "    ''' Takes two numbers and subtracts them'''\n",
    "    return n1 - n2\n",
    "\n",
    "def multiply(n1, n2):\n",
    "    ''' Takes two numbers and multiplys them'''\n",
    "    return n1 * n2\n",
    "\n",
    "def divide(n1, n2):\n",
    "    '''Takes two numbers and divides'''\n",
    "    return n1 / n2\n",
    "\n",
    "\n",
    "operator = {\n",
    "             '+' : add,\n",
    "             '-' : subtract,\n",
    "             '*' : multiply,\n",
    "             '/' : divide,\n",
    "            }\n",
    "\n",
    "\n",
    "calc = True\n",
    "\n",
    "while calc:\n",
    "    num1 = int(input('Enter the first number '))\n",
    "    num2 = int(input('Enter the second number '))\n",
    "    print('Enter operator. Select from the following')\n",
    "    \n",
    "    # Loop through the dict for the keys\n",
    "    for k in operator:\n",
    "        print(k)\n",
    "   \n",
    "    print()\n",
    "    \n",
    "    op = input('')\n",
    "    \n",
    "    # Grab the dictionary value and call\n",
    "    # the funtion with that name\n",
    "    calculation_function = operator[op] \n",
    "    answer = calculation_function(num1, num2)\n",
    "    \n",
    "    print(f'{num1} {op} {num2} = {answer}')\n",
    "    \n",
    "    # again??\n",
    "    another_calc = input('Another calculation? (y/n) ')\n",
    "    \n",
    "    if another_calc == 'n':\n",
    "        calc = False\n",
    "        \n",
    "\n",
    "\n"
   ]
  },
  {
   "cell_type": "markdown",
   "metadata": {},
   "source": [
    "## Udemy solution \n",
    "\n",
    "with an additinal funtionality to do aditional calculation"
   ]
  },
  {
   "cell_type": "code",
   "execution_count": null,
   "metadata": {},
   "outputs": [],
   "source": [
    "#from replit import clear\n",
    "#from art import logo\n",
    "\n",
    "def add(n1, n2):\n",
    "    return n1 + n2\n",
    "\n",
    "def subtract(n1, n2):\n",
    "    return n1 - n2\n",
    "\n",
    "def multiply(n1, n2):\n",
    "    return n1 * n2\n",
    "\n",
    "def divide(n1, n2):\n",
    "    return n1 / n2\n",
    "\n",
    "operations = {\n",
    "  \"+\": add,\n",
    "  \"-\": subtract,\n",
    "  \"*\": multiply,\n",
    "  \"/\": divide\n",
    "}\n",
    "\n",
    "def calculator():\n",
    "    print(logo)\n",
    "\n",
    "    num1 = float(input(\"What's the first number?: \"))\n",
    "    for symbol in operations:\n",
    "        print(symbol)\n",
    "        \n",
    "should_continue = True\n",
    " \n",
    "while should_continue:\n",
    "    \n",
    "    operation_symbol = input(\"Pick an operation: \")\n",
    "    num2 = float(input(\"What's the next number?: \"))\n",
    "    calculation_function = operations[operation_symbol]\n",
    "    answer = calculation_function(num1, num2)\n",
    "    print(f\"{num1} {operation_symbol} {num2} = {answer}\")\n",
    "\n",
    "    if input(f\"Type 'y' to continue calculating with {answer}, or type 'n' to start a new calculation: \") == 'y':\n",
    "        num1 = answer\n",
    "    else:\n",
    "        should_continue = False\n",
    "        clear()\n",
    "        calculator()\n",
    "\n",
    "calculator()\n"
   ]
  },
  {
   "cell_type": "code",
   "execution_count": null,
   "metadata": {},
   "outputs": [],
   "source": []
  },
  {
   "cell_type": "code",
   "execution_count": null,
   "metadata": {},
   "outputs": [],
   "source": []
  }
 ],
 "metadata": {
  "kernelspec": {
   "display_name": "Python 3",
   "language": "python",
   "name": "python3"
  },
  "language_info": {
   "codemirror_mode": {
    "name": "ipython",
    "version": 3
   },
   "file_extension": ".py",
   "mimetype": "text/x-python",
   "name": "python",
   "nbconvert_exporter": "python",
   "pygments_lexer": "ipython3",
   "version": "3.8.5"
  }
 },
 "nbformat": 4,
 "nbformat_minor": 4
}
