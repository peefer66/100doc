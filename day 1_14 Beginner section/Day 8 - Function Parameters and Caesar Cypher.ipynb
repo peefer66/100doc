{
 "cells": [
  {
   "cell_type": "markdown",
   "metadata": {},
   "source": [
    "## Day 8 - Functions"
   ]
  },
  {
   "cell_type": "raw",
   "metadata": {},
   "source": [
    "# Simple Function\n",
    "def greet():\n",
    "    print('Hello')\n",
    "    print('How do you do?')\n",
    "    print('Isnt the weather nice today?')\n",
    "          \n",
    "greet()"
   ]
  },
  {
   "cell_type": "code",
   "execution_count": 5,
   "metadata": {},
   "outputs": [
    {
     "name": "stdout",
     "output_type": "stream",
     "text": [
      "Hello Peter\n"
     ]
    }
   ],
   "source": [
    "# Funtion that allows for input\n",
    "def greet_with_name(name):\n",
    "    print(f'Hello {name}')\n",
    "\n",
    "greet_with_name('Peter')\n",
    "    \n",
    "                "
   ]
  },
  {
   "cell_type": "code",
   "execution_count": 8,
   "metadata": {},
   "outputs": [
    {
     "name": "stdout",
     "output_type": "stream",
     "text": [
      "Hello Peter you live in Heywood\n"
     ]
    }
   ],
   "source": [
    "# Greet with more than one perameters\n",
    "def greet_with(name, place):\n",
    "    print(f'Hello {name} you live in {place}')\n",
    "\n",
    "    \n",
    "greet_with('Peter', 'Heywood')"
   ]
  },
  {
   "cell_type": "code",
   "execution_count": 14,
   "metadata": {},
   "outputs": [
    {
     "name": "stdout",
     "output_type": "stream",
     "text": [
      "Hello Pete you live in Heywood\n",
      "Hello Pete you live in Heywood\n"
     ]
    }
   ],
   "source": [
    "#Keyword arguments\n",
    "\n",
    "greet_with(name='Pete', place='Heywood')\n",
    "greet_with(place='Heywood', name='Pete')\n"
   ]
  },
  {
   "cell_type": "markdown",
   "metadata": {},
   "source": [
    "##  8.1 Area Calc\n",
    "\n",
    "# Instructions\n",
    "\n",
    "You are painting a wall. The instructions on the paint can says that\n",
    "**1 can of paint can cover 5 square meters** of wall. Given a random height and width of wall,\n",
    "calculate how many cans of paint you'll need to buy.\n",
    "\n",
    "number of cans = (wall height ✖️ wall width) ÷ coverage per can. \n",
    "\n",
    "e.g. Height = 2, Width = 4, Coverage = 5\n",
    "\n",
    "number of cans = (2 ✖️ 4) ÷ 5 \n",
    "\n",
    "                         = 1.6\n",
    "\n",
    "But because you can't buy 0.6 of a can of paint, the **result should be rounded up** to **2** cans. \n",
    "\n",
    "IMPORTANT: Notice the name of the function and parameters must match those on line 13 for the\n",
    "code to work.\n",
    "\n",
    "# Example Input\n",
    "\n",
    "```\n",
    "test_h = 3\n",
    "```\n",
    "\n",
    "```\n",
    "test_w = 9\n",
    "```\n",
    "\n",
    "# Example Output\n",
    "\n",
    "```\n",
    "You'll need 6 cans of paint.\n",
    "```\n",
    "\n",
    "   \n",
    "\n",
    "# Hint\n",
    "\n",
    "**1. To round up a number**: \n",
    "\n",
    "[https://stackoverflow.com/questions/2356501/how-do-you-round-up-a-number-in-python](https://stackoverflow.com/questions/2356501/how-do-you-round-up-a-number-in-python)\n",
    "\n",
    "2. Make sure you name your function/parameters the same as when it's called on the last line of code. \n",
    "\n",
    "# Test Your Code\n",
    "\n",
    "Before checking the solution, try copy-pasting your code into this repl: \n",
    "\n",
    "[https://repl.it/@appbrewery/day-8-1-test-your-code](https://repl.it/@appbrewery/day-8-1-test-your-code)\n",
    "\n",
    "This repl includes my testing code that will check if your code meets this assignment's objectives. \n",
    "\n",
    "# Solution\n",
    "\n",
    "[https://repl.it/@appbrewery/day-8-1-solution](https://repl.it/@appbrewery/day-8-1-solution)"
   ]
  },
  {
   "cell_type": "code",
   "execution_count": 2,
   "metadata": {},
   "outputs": [
    {
     "name": "stdout",
     "output_type": "stream",
     "text": [
      "Enter the height of the wall (m) \n",
      "5.2\n",
      "Enter the width of the wall (m) \n",
      "3.6\n",
      "The height of the wall is 5.2m, the width is 3.6m so you will need 4 cans of paint to complete the job\n"
     ]
    }
   ],
   "source": [
    "import random\n",
    "from math import ceil\n",
    "\n",
    "def number_of_cans(height,width):\n",
    "    area = (width*height)\n",
    "    cans = ceil(area/5)\n",
    "    print(f'The height of the wall is {height}m, the width is {width}m so you will need {cans} cans of paint to complete the job')\n",
    "\n",
    "height = float(input('Enter the height of the wall (m) \\n'))\n",
    "width = float(input('Enter the width of the wall (m) \\n'))\n",
    "\n",
    "number_of_cans(height,width)"
   ]
  },
  {
   "cell_type": "markdown",
   "metadata": {},
   "source": [
    "## 8.2 - Prime number checker\n",
    "https://en.wikipedia.org/wiki/Prime_number"
   ]
  },
  {
   "cell_type": "code",
   "execution_count": null,
   "metadata": {},
   "outputs": [],
   "source": [
    "#Write your code below this line 👇\n",
    "def prime_checker(number):\n",
    "          \n",
    "    myprime = True # Flag \n",
    "    \n",
    "    # Prime numbers are greater than 1\n",
    "    if number >1:\n",
    "        # Prime numbers are ODD numbers\n",
    "        if number % 2 == 0 :\n",
    "            myprime = False\n",
    "            print(myprime)\n",
    "        else:\n",
    "            for n in range(3,number-1):\n",
    "                # Prime numbers are divisible by one and itself.\n",
    "                # Check if the number is divisable by odd numbers lower than itself\n",
    "                if n % 2 !=0:\n",
    "                    if number % n == 0:\n",
    "                        myprime = False\n",
    "                        break\n",
    "                            \n",
    "    else:\n",
    "        mybool = False\n",
    "    \n",
    "    if myprime:\n",
    "        print(f'{number} is a prime number')\n",
    "    else:\n",
    "        print(f'{number} is not a prime number')\n",
    "\n",
    "\n",
    "n = int(input(\"Check this number: \"))\n",
    "prime_checker(number=n)\n"
   ]
  },
  {
   "cell_type": "markdown",
   "metadata": {},
   "source": [
    "## 8.3 Caesar Cypher - 1"
   ]
  },
  {
   "cell_type": "code",
   "execution_count": 97,
   "metadata": {
    "scrolled": true
   },
   "outputs": [
    {
     "name": "stdout",
     "output_type": "stream",
     "text": [
      "Type 'encode' to encrypt, type 'decode' to decrypt:\n",
      "encode\n",
      "Type your message:\n",
      "peter fieldhouse zoo keeper\n",
      "Type the shift number:\n",
      "5\n",
      "Encoded message = ujyjw knjqimtzxj ett pjjujw\n",
      "Do you want to go again? (y/n)\n",
      "y\n",
      "Type 'encode' to encrypt, type 'decode' to decrypt:\n",
      "decode\n",
      "Type your message:\n",
      "ujyjw knjqimtzxj ett pjjujw\n",
      "Type the shift number:\n",
      "5\n",
      "Encoded message = peter fieldhouse zoo keeper\n",
      "Do you want to go again? (y/n)\n",
      "n\n"
     ]
    }
   ],
   "source": [
    "#Double populate the alphabet to prevent index out of range when encoding\n",
    "# higher letters or decoding lower letters\n",
    "alphabet = ['a', 'b', 'c', 'd', 'e', 'f', 'g', 'h', 'i', 'j', 'k', 'l', 'm',\n",
    "            'n', 'o', 'p', 'q', 'r', 's', 't', 'u', 'v', 'w', 'x', 'y', 'z',\n",
    "            'a', 'b', 'c', 'd', 'e', 'f', 'g', 'h', 'i', 'j', 'k', 'l', 'm',\n",
    "            'n', 'o', 'p', 'q', 'r', 's', 't', 'u', 'v', 'w', 'x', 'y', 'z']\n",
    "\n",
    "keep_going = True\n",
    "#TODO-1: Create a function called 'encrypt' that takes the 'text' and 'shift' as inputs.\n",
    "#TODO-2: Inside the 'encrypt' function, shift each letter of the 'text' forwards in the\n",
    "# alphabet by the shift amount and print the encrypted text.  \n",
    "    #e.g. \n",
    "    #plain_text = \"hello\"\n",
    "    #shift = 5\n",
    "    #cipher_text = \"mjqqt\"\n",
    "    #print output: \"The encoded text is mjqqt\"\n",
    "\n",
    "    ##HINT: How do you get the index of an item in a list:\n",
    "    #https://stackoverflow.com/questions/176918/finding-the-index-of-an-item-in-a-list\n",
    "\n",
    "    ##🐛Bug alert: What happens if you try to encode the word 'civilization'?🐛\n",
    "\n",
    "#TODO-3: Call the encrypt function and pass in the user inputs. You should be able to test the code and encrypt a message.\n",
    "\n",
    "\n",
    "def caesar(text, shift, direction):\n",
    "        \n",
    "    if direction == 'decode':\n",
    "        shift *= -1\n",
    "           \n",
    "    for char in text:\n",
    "        # Check if the character is alphnumeric\n",
    "        if char in alphabet:\n",
    "            # add the shift onto the original character index\n",
    "                shifted_index = alphabet.index(char)+shift\n",
    "                # encode the text in accordance with the shift value\n",
    "                changed_message.append(alphabet[shifted_index])\n",
    "        else:\n",
    "            # if character non alpha numeric\n",
    "            changed_message.append(char)\n",
    "    print('Encoded message = ' + ''.join(changed_message))\n",
    "    \n",
    "while keep_going:\n",
    "    changed_message = []\n",
    "    direction = input(\"Type 'encode' to encrypt, type 'decode' to decrypt:\\n\")\n",
    "    text = input(\"Type your message:\\n\").lower()\n",
    "    shift = int(input(\"Type the shift number:\\n\"))\n",
    "    caesar(text,shift, direction)\n",
    "    \n",
    "    response = input('Do you want to go again? (y/n)\\n').lower()\n",
    "    if response == 'n':\n",
    "        keep_going = False\n",
    "        \n",
    "    \n",
    "    \n",
    "    \n",
    "    \n"
   ]
  },
  {
   "cell_type": "markdown",
   "metadata": {},
   "source": [
    "## Course Solution"
   ]
  },
  {
   "cell_type": "code",
   "execution_count": 72,
   "metadata": {},
   "outputs": [
    {
     "ename": "ModuleNotFoundError",
     "evalue": "No module named 'art'",
     "output_type": "error",
     "traceback": [
      "\u001b[1;31m---------------------------------------------------------------------------\u001b[0m",
      "\u001b[1;31mModuleNotFoundError\u001b[0m                       Traceback (most recent call last)",
      "\u001b[1;32m<ipython-input-72-b245e577dd7a>\u001b[0m in \u001b[0;36m<module>\u001b[1;34m\u001b[0m\n\u001b[0;32m     19\u001b[0m \u001b[1;33m\u001b[0m\u001b[0m\n\u001b[0;32m     20\u001b[0m \u001b[1;31m#TODO-1: Import and print the logo from art.py when the program starts.\u001b[0m\u001b[1;33m\u001b[0m\u001b[1;33m\u001b[0m\u001b[1;33m\u001b[0m\u001b[0m\n\u001b[1;32m---> 21\u001b[1;33m \u001b[1;32mfrom\u001b[0m \u001b[0mart\u001b[0m \u001b[1;32mimport\u001b[0m \u001b[0mlogo\u001b[0m\u001b[1;33m\u001b[0m\u001b[1;33m\u001b[0m\u001b[0m\n\u001b[0m\u001b[0;32m     22\u001b[0m \u001b[0mprint\u001b[0m\u001b[1;33m(\u001b[0m\u001b[0mlogo\u001b[0m\u001b[1;33m)\u001b[0m\u001b[1;33m\u001b[0m\u001b[1;33m\u001b[0m\u001b[0m\n\u001b[0;32m     23\u001b[0m \u001b[1;33m\u001b[0m\u001b[0m\n",
      "\u001b[1;31mModuleNotFoundError\u001b[0m: No module named 'art'"
     ]
    }
   ],
   "source": [
    "alphabet = ['a', 'b', 'c', 'd', 'e', 'f', 'g', 'h', 'i', 'j', 'k', 'l',\n",
    "            'm', 'n', 'o', 'p', 'q', 'r', 's', 't', 'u', 'v', 'w', 'x', 'y', 'z',\n",
    "            'a', 'b', 'c', 'd', 'e', 'f', 'g', 'h', 'i', 'j', 'k', 'l',\n",
    "            'm', 'n', 'o', 'p', 'q', 'r', 's', 't', 'u', 'v', 'w', 'x', 'y', 'z']\n",
    "\n",
    "def caesar(start_text, shift_amount, cipher_direction):\n",
    "    end_text = \"\"\n",
    "    if cipher_direction == \"decode\":\n",
    "        shift_amount *= -1\n",
    "    for char in start_text:\n",
    "    #TODO-3: What happens if the user enters a number/symbol/space?\n",
    "    #Can you fix the code to keep the number/symbol/space when the text is encoded/decoded?\n",
    "    #e.g. start_text = \"meet me at 3\"\n",
    "    #end_text = \"•••• •• •• 3\"\n",
    "        if char in alphabet:\n",
    "            position = alphabet.index(char)\n",
    "            new_position = position + shift_amount\n",
    "            end_text += alphabet[new_position]\n",
    "        else:\n",
    "            end_text += char\n",
    "        print(f\"Here's the {cipher_direction}d result: {end_text}\")\n",
    "\n",
    "#TODO-1: Import and print the logo from art.py when the program starts.\n",
    "from art import logo\n",
    "print(logo)\n",
    "\n",
    "#TODO-4: Can you figure out a way to ask the user if they want to restart the cipher program?\n",
    "#e.g. Type 'yes' if you want to go again. Otherwise type 'no'.\n",
    "#If they type 'yes' then ask them for the direction/text/shift again and call the caesar() function again?\n",
    "#Hint: Try creating a new function that calls itself if they type 'yes'. \n",
    "should_end = False\n",
    "while not should_end:\n",
    "    direction = input(\"Type 'encode' to encrypt, type 'decode' to decrypt:\\n\")\n",
    "    text = input(\"Type your message:\\n\").lower()\n",
    "    shift = int(input(\"Type the shift number:\\n\"))\n",
    "  #TODO-2: What if the user enters a shift that is greater than the number of letters in the alphabet?\n",
    "  #Try running the program and entering a shift number of 45.\n",
    "  #Hint: Think about how you can use the modulus (%).\n",
    "    shift = shift % 26\n",
    "\n",
    "caesar(start_text=text, shift_amount=shift, cipher_direction=direction)\n",
    "\n",
    "restart = input(\"Type 'yes' if you want to go again. Otherwise type 'no'.\\n\")\n",
    "if restart == \"no\":\n",
    "    should_end = True\n",
    "    print(\"Goodbye\")\n",
    "    \n",
    "\n",
    "\n"
   ]
  },
  {
   "cell_type": "code",
   "execution_count": null,
   "metadata": {},
   "outputs": [],
   "source": [
    "keep_going = true\n"
   ]
  }
 ],
 "metadata": {
  "kernelspec": {
   "display_name": "Python 3",
   "language": "python",
   "name": "python3"
  },
  "language_info": {
   "codemirror_mode": {
    "name": "ipython",
    "version": 3
   },
   "file_extension": ".py",
   "mimetype": "text/x-python",
   "name": "python",
   "nbconvert_exporter": "python",
   "pygments_lexer": "ipython3",
   "version": "3.8.5"
  }
 },
 "nbformat": 4,
 "nbformat_minor": 4
}
