{
 "cells": [
  {
   "cell_type": "markdown",
   "metadata": {},
   "source": [
    "## Local vs Global Scope"
   ]
  },
  {
   "cell_type": "code",
   "execution_count": null,
   "metadata": {},
   "outputs": [],
   "source": [
    "################### Scope ####################\n",
    "\n",
    "enemies = 1\n",
    "\n",
    "def increase_enemies():\n",
    "    enemies = 2\n",
    "    print(f\"enemies inside function: {enemies}\")\n",
    "\n",
    "    \n",
    "increase_enemies()\n",
    "print(f\"enemies outside function: {enemies}\")"
   ]
  },
  {
   "cell_type": "code",
   "execution_count": null,
   "metadata": {},
   "outputs": [],
   "source": [
    "# Local scope\n",
    "\n",
    "def drink_potion():\n",
    "    potion_strength = 2\n",
    "    print(potion_strength)\n",
    "\n",
    "drink_potion()\n",
    "print(potion_strength) # will throw an error"
   ]
  },
  {
   "cell_type": "code",
   "execution_count": null,
   "metadata": {},
   "outputs": [],
   "source": [
    "# Global scope\n",
    "\n",
    "player_strength = 10\n",
    "\n",
    "def drink_another_potion():\n",
    "    print(player_strength)\n",
    "    \n",
    "drink_another_potion()"
   ]
  },
  {
   "cell_type": "markdown",
   "metadata": {},
   "source": [
    "## Does python have block scope?"
   ]
  },
  {
   "cell_type": "code",
   "execution_count": null,
   "metadata": {},
   "outputs": [],
   "source": [
    "enemies = ['skeleton', 'zombie', 'aliens']\n",
    "player_level = 3\n",
    "\n",
    "if player_level < 5:\n",
    "    new_enemy = enemies[0]\n",
    "\n",
    "print(new_enemy)# outside of the IF block"
   ]
  },
  {
   "cell_type": "markdown",
   "metadata": {},
   "source": [
    "## How to modify a global variable"
   ]
  },
  {
   "cell_type": "code",
   "execution_count": null,
   "metadata": {},
   "outputs": [],
   "source": [
    "enemies = 1\n",
    "\n",
    "def increase_enemies():\n",
    "    enemies +=1\n",
    "    print(f\"enemies inside function: {enemies}\")\n",
    "\n",
    "# This throws a referenced before assignement error  \n",
    "increase_enemies()\n",
    "print(f\"enemies outside function: {enemies}\")"
   ]
  },
  {
   "cell_type": "code",
   "execution_count": null,
   "metadata": {},
   "outputs": [],
   "source": [
    "enemies = 1\n",
    "\n",
    "def increase_enemies():\n",
    "    global enemies\n",
    "    enemies +=1\n",
    "    print(f\"enemies inside function: {enemies}\")\n",
    "\n",
    "    \n",
    "increase_enemies()\n",
    "print(f\"enemies outside function: {enemies}\")"
   ]
  },
  {
   "cell_type": "markdown",
   "metadata": {},
   "source": [
    "### Bad practice to modify global variable from within a fntion. Instead use return\n"
   ]
  },
  {
   "cell_type": "code",
   "execution_count": null,
   "metadata": {},
   "outputs": [],
   "source": [
    "enemies = 1\n",
    "\n",
    "def increase_enemies():\n",
    "    return enemies + 1\n",
    "    \n",
    "enemies = increase_enemies()\n",
    "print(f\"enemies outside function: {enemies}\")"
   ]
  },
  {
   "cell_type": "markdown",
   "metadata": {},
   "source": [
    "## Constants and global scope"
   ]
  },
  {
   "cell_type": "code",
   "execution_count": null,
   "metadata": {},
   "outputs": [],
   "source": [
    "# declare constants use uppercase\n",
    "\n",
    "PI = 3.14259\n",
    "URL = 'https://kfkefokf.com'"
   ]
  },
  {
   "cell_type": "markdown",
   "metadata": {},
   "source": [
    "## Number guessing game"
   ]
  },
  {
   "cell_type": "code",
   "execution_count": null,
   "metadata": {},
   "outputs": [
    {
     "name": "stdout",
     "output_type": "stream",
     "text": [
      "Do you wnat to guess the numbery\n",
      "Welcome to the number guessing game\n",
      "Im thinking of a number between 1 and 100\n",
      "Choose a dificulty easy (e) or hard (h)\n",
      "e\n",
      "you have 10 attempts left to guess the mumber\n",
      "Guess a number:\n",
      "50\n",
      "Too high\n",
      "you have -1 attempts left to guess the mumber\n",
      "Guess a number:\n",
      "25\n",
      "Too high\n",
      "you have -1 attempts left to guess the mumber\n"
     ]
    }
   ],
   "source": [
    "\n",
    "\n",
    "def whats_my_number():\n",
    "    import random\n",
    "    computer_number = random.randint(1,100)\n",
    "\n",
    "def compare_numbers(user_number):\n",
    "    if user_number == computer_number:\n",
    "        print('Correct')\n",
    "        game_over = True\n",
    "    elif user_number > computer_number:\n",
    "        print('Too high')\n",
    "        return attempts - 1\n",
    "    else:\n",
    "        print('Too low')\n",
    "        return attempts - 1\n",
    "\n",
    "def play():\n",
    "    game_over = False\n",
    "    \n",
    "    print('Welcome to the number guessing game')\n",
    "    print('Im thinking of a number between 1 and 100')\n",
    "\n",
    "    difficulty = input('Choose a dificulty easy (e) or hard (h)\\n')\n",
    "\n",
    "    if difficulty == 'e':\n",
    "        attempts = 10\n",
    "    else:\n",
    "        attempts = 5\n",
    "\n",
    "    whats_my_number()\n",
    "\n",
    "    while game_over == False:\n",
    "        print(f'you have {attempts} attempts left to guess the mumber')\n",
    "        my_number = int(input('Guess a number:\\n'))\n",
    "        attempts = compare_numbers(my_number)\n",
    "        if attempts == 0:\n",
    "            game_over = True\n",
    "        \n",
    "while input('Do you wnat to guess the number') == 'y':\n",
    "    computer_number = 0\n",
    "    difficulty = ''\n",
    "    attempts = 0\n",
    "    \n",
    "    play()\n",
    "\n"
   ]
  },
  {
   "cell_type": "code",
   "execution_count": null,
   "metadata": {},
   "outputs": [],
   "source": []
  },
  {
   "cell_type": "code",
   "execution_count": null,
   "metadata": {},
   "outputs": [],
   "source": [
    "from random import randint\n",
    "from art import logo\n",
    "\n",
    "EASY_LEVEL_TURNS = 10\n",
    "HARD_LEVEL_TURNS = 5\n",
    "\n",
    "#Function to check user's guess against actual answer.\n",
    "def check_answer(guess, answer, turns):\n",
    "  \"\"\"checks answer against guess. Returns the number of turns remaining.\"\"\"\n",
    "  if guess > answer:\n",
    "    print(\"Too high.\")\n",
    "    return turns - 1\n",
    "  elif guess < answer:\n",
    "    print(\"Too low.\")\n",
    "    return turns - 1\n",
    "  else:\n",
    "    print(f\"You got it! The answer was {answer}.\")\n",
    "\n",
    "#Make function to set difficulty.\n",
    "def set_difficulty():\n",
    "  level = input(\"Choose a difficulty. Type 'easy' or 'hard': \")\n",
    "  if level == \"easy\":\n",
    "    return EASY_LEVEL_TURNS\n",
    "  else:\n",
    "    return HARD_LEVEL_TURNS\n",
    "\n",
    "def game():\n",
    "  print(logo)\n",
    "  #Choosing a random number between 1 and 100.\n",
    "  print(\"Welcome to the Number Guessing Game!\")\n",
    "  print(\"I'm thinking of a number between 1 and 100.\")\n",
    "  answer = randint(1, 100)\n",
    "  print(f\"Pssst, the correct answer is {answer}\") \n",
    "\n",
    "  turns = set_difficulty()\n",
    "  #Repeat the guessing functionality if they get it wrong.\n",
    "  guess = 0\n",
    "  while guess != answer:\n",
    "    print(f\"You have {turns} attempts remaining to guess the number.\")\n",
    "\n",
    "    #Let the user guess a number.\n",
    "    guess = int(input(\"Make a guess: \"))\n",
    "\n",
    "    #Track the number of turns and reduce by 1 if they get it wrong.\n",
    "    turns = check_answer(guess, answer, turns)\n",
    "    if turns == 0:\n",
    "      print(\"You've run out of guesses, you lose.\")\n",
    "      return\n",
    "    elif guess != answer:\n",
    "      print(\"Guess again.\")\n",
    "\n",
    "\n",
    "game()\n",
    "\n"
   ]
  }
 ],
 "metadata": {
  "kernelspec": {
   "display_name": "Python 3",
   "language": "python",
   "name": "python3"
  },
  "language_info": {
   "codemirror_mode": {
    "name": "ipython",
    "version": 3
   },
   "file_extension": ".py",
   "mimetype": "text/x-python",
   "name": "python",
   "nbconvert_exporter": "python",
   "pygments_lexer": "ipython3",
   "version": "3.8.5"
  }
 },
 "nbformat": 4,
 "nbformat_minor": 4
}
