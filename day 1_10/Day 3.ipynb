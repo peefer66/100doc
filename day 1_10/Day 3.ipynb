{
 "cells": [
  {
   "cell_type": "markdown",
   "metadata": {},
   "source": [
    "# Day 3 - Control Flow and Logical Operators\n",
    "\n",
    "https://www.udemy.com/course/100-days-of-code/learn/lecture/17878012#overview"
   ]
  },
  {
   "cell_type": "markdown",
   "metadata": {},
   "source": [
    "## 3.1 Control Flow with if / else and Conditional Operators"
   ]
  },
  {
   "cell_type": "code",
   "execution_count": 11,
   "metadata": {},
   "outputs": [
    {
     "name": "stdout",
     "output_type": "stream",
     "text": [
      "Welcome to the roller coaster\n",
      "please enter your height (cm) 120\n",
      "You can ride the rollercoaster\n"
     ]
    }
   ],
   "source": [
    "print('Welcome to the roller coaster')\n",
    "height = int(input('please enter your height (cm) '))\n",
    "\n",
    "if height >= 120:\n",
    "    print('You can ride the rollercoaster')\n",
    "else:\n",
    "    print('Sorry you are too small')\n",
    "\n"
   ]
  },
  {
   "cell_type": "markdown",
   "metadata": {},
   "source": [
    "## 3.2 [Interactive Coding Exercise] Odd or Even? Introducing the Modulo"
   ]
  },
  {
   "cell_type": "markdown",
   "metadata": {},
   "source": [
    "## Odd or Even\n",
    "\n",
    "# Instructions\n",
    "\n",
    "Write a program that works out whether if a given number is an odd or even number. \n",
    "\n",
    "Even numbers can be divided by 2 with no remainder. \n",
    "\n",
    "e.g. 86 is **even** because 86 ÷ 2 = 43\n",
    "\n",
    "43 does not have any decimal places. Therefore the division is clean.\n",
    "\n",
    "e.g. 59 is **odd** because 59 ÷ 2 = 29.5\n",
    "\n",
    "29.5 is not a whole number, it has decimal places. Therefore there is a remainder of 0.5, so the division is not clean.\n",
    "\n",
    "The **modulo** is written as a percentage sign (%) in Python. It gives you the remainder after a division. \n",
    "\n",
    "e.g. \n",
    "\n",
    "6 ÷ 2 = 3 with no remainder. \n",
    "\n",
    "```\n",
    "6 % 2 = 0\n",
    "```\n",
    "\n",
    "5 ÷ 2 = 2 x **2** + 1, remainder is 1.\n",
    "\n",
    "```\n",
    "5 % 2 = 1\n",
    "```\n",
    "\n",
    "14 ÷ 4 = 3 x **4** + 2, remainder is 2.\n",
    "\n",
    "```\n",
    "14 % 4 = 2\n",
    "```\n",
    "\n",
    "**Warning** your output should match the Example Output format exactly, even the positions of the commas and full stops. \n",
    "\n",
    "# Example Input 1\n",
    "\n",
    "```\n",
    "43\n",
    "```\n",
    "\n",
    "# Example Output 1\n",
    "\n",
    "```\n",
    "This is an odd number.\n",
    "```\n",
    "\n",
    "# Example Input 2\n",
    "\n",
    "```\n",
    "94\n",
    "```\n",
    "\n",
    "# Example Output 2\n",
    "\n",
    "```\n",
    "This is an even number.\n",
    "```\n",
    "\n",
    "e.g. When you hit **run**, this is what should happen:   \n",
    "\n",
    "![](https://cdn.fs.teachablecdn.com/bkF9TKJSTGksvxNzOtba)\n",
    "\n",
    "# Hint\n",
    "\n",
    "1. All even numbers can be divided by 2 with 0 remainder.\n",
    "2. Try some using the modulo with some odd numbers e.g. \n",
    "\n",
    "```\n",
    "3 % 2\n",
    "```\n",
    "\n",
    "```\n",
    "5 % 2\n",
    "```\n",
    "\n",
    "```\n",
    "7 % 2\n",
    "```\n",
    "\n",
    "Then try using the modulo with some even numbers e.g.\n",
    "\n",
    "```\n",
    "4 % 2\n",
    "```\n",
    "\n",
    "```\n",
    "6 % 2\n",
    "```\n",
    "\n",
    "```\n",
    "8 % 2\n",
    "```\n",
    "\n",
    "See what's in common each time.\n",
    " \n",
    "# Test Your Code\n",
    "\n",
    "Before checking the solution, try copy-pasting your code into this repl: \n",
    "\n",
    "[https://repl.it/@appbrewery/day-3-1-test-your-code](https://repl.it/@appbrewery/day-3-1-test-your-code)\n",
    "\n",
    "This repl includes my testing code that will check if your code meets this assignment's objectives. \n",
    "\n",
    "# Solution\n",
    "\n",
    "[https://repl.it/@appbrewery/day-3-1-solution](https://repl.it/@appbrewery/day-3-1-solution)"
   ]
  },
  {
   "cell_type": "code",
   "execution_count": 15,
   "metadata": {},
   "outputs": [
    {
     "name": "stdout",
     "output_type": "stream",
     "text": [
      "Please enter a number: 12548\n",
      "12548 is an even number\n"
     ]
    }
   ],
   "source": [
    "num = int(input('Please enter a number: '))\n",
    "\n",
    "if num%2 == 0:\n",
    "    print(f'{num} is an even number')\n",
    "else:\n",
    "    print(f'{num} is an odd number')"
   ]
  },
  {
   "cell_type": "code",
   "execution_count": null,
   "metadata": {},
   "outputs": [],
   "source": []
  }
 ],
 "metadata": {
  "kernelspec": {
   "display_name": "Python 3",
   "language": "python",
   "name": "python3"
  },
  "language_info": {
   "codemirror_mode": {
    "name": "ipython",
    "version": 3
   },
   "file_extension": ".py",
   "mimetype": "text/x-python",
   "name": "python",
   "nbconvert_exporter": "python",
   "pygments_lexer": "ipython3",
   "version": "3.8.5"
  }
 },
 "nbformat": 4,
 "nbformat_minor": 4
}
