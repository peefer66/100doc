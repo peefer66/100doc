{
 "cells": [
  {
   "cell_type": "markdown",
   "metadata": {},
   "source": [
    "# Day 3 - Control Flow and Logical Operators\n",
    "\n",
    "https://www.udemy.com/course/100-days-of-code/learn/lecture/17878012#overview"
   ]
  },
  {
   "cell_type": "markdown",
   "metadata": {},
   "source": [
    "## 3.1 Control Flow with if / else and Conditional Operators"
   ]
  },
  {
   "cell_type": "code",
   "execution_count": 11,
   "metadata": {},
   "outputs": [
    {
     "name": "stdout",
     "output_type": "stream",
     "text": [
      "Welcome to the roller coaster\n",
      "please enter your height (cm) 120\n",
      "You can ride the rollercoaster\n"
     ]
    }
   ],
   "source": [
    "print('Welcome to the roller coaster')\n",
    "height = int(input('please enter your height (cm) '))\n",
    "\n",
    "if height >= 120:\n",
    "    print('You can ride the rollercoaster')\n",
    "else:\n",
    "    print('Sorry you are too small')\n",
    "\n"
   ]
  },
  {
   "cell_type": "markdown",
   "metadata": {},
   "source": [
    "## 3.2 [Interactive Coding Exercise] Odd or Even? Introducing the Modulo"
   ]
  },
  {
   "cell_type": "markdown",
   "metadata": {},
   "source": [
    "## Odd or Even\n",
    "\n",
    "# Instructions\n",
    "\n",
    "Write a program that works out whether if a given number is an odd or even number. \n",
    "\n",
    "Even numbers can be divided by 2 with no remainder. \n",
    "\n",
    "e.g. 86 is **even** because 86 ÷ 2 = 43\n",
    "\n",
    "43 does not have any decimal places. Therefore the division is clean.\n",
    "\n",
    "e.g. 59 is **odd** because 59 ÷ 2 = 29.5\n",
    "\n",
    "29.5 is not a whole number, it has decimal places. Therefore there is a remainder of 0.5, so the division is not clean.\n",
    "\n",
    "The **modulo** is written as a percentage sign (%) in Python. It gives you the remainder after a division. \n",
    "\n",
    "e.g. \n",
    "\n",
    "6 ÷ 2 = 3 with no remainder. \n",
    "\n",
    "```\n",
    "6 % 2 = 0\n",
    "```\n",
    "\n",
    "5 ÷ 2 = 2 x **2** + 1, remainder is 1.\n",
    "\n",
    "```\n",
    "5 % 2 = 1\n",
    "```\n",
    "\n",
    "14 ÷ 4 = 3 x **4** + 2, remainder is 2.\n",
    "\n",
    "```\n",
    "14 % 4 = 2\n",
    "```\n",
    "\n",
    "**Warning** your output should match the Example Output format exactly, even the positions of the commas and full stops. \n",
    "\n",
    "# Example Input 1\n",
    "\n",
    "```\n",
    "43\n",
    "```\n",
    "\n",
    "# Example Output 1\n",
    "\n",
    "```\n",
    "This is an odd number.\n",
    "```\n",
    "\n",
    "# Example Input 2\n",
    "\n",
    "```\n",
    "94\n",
    "```\n",
    "\n",
    "# Example Output 2\n",
    "\n",
    "```\n",
    "This is an even number.\n",
    "```\n",
    "\n",
    "e.g. When you hit **run**, this is what should happen:   \n",
    "\n",
    "![](https://cdn.fs.teachablecdn.com/bkF9TKJSTGksvxNzOtba)\n",
    "\n",
    "# Hint\n",
    "\n",
    "1. All even numbers can be divided by 2 with 0 remainder.\n",
    "2. Try some using the modulo with some odd numbers e.g. \n",
    "\n",
    "```\n",
    "3 % 2\n",
    "```\n",
    "\n",
    "```\n",
    "5 % 2\n",
    "```\n",
    "\n",
    "```\n",
    "7 % 2\n",
    "```\n",
    "\n",
    "Then try using the modulo with some even numbers e.g.\n",
    "\n",
    "```\n",
    "4 % 2\n",
    "```\n",
    "\n",
    "```\n",
    "6 % 2\n",
    "```\n",
    "\n",
    "```\n",
    "8 % 2\n",
    "```\n",
    "\n",
    "See what's in common each time.\n",
    " \n",
    "# Test Your Code\n",
    "\n",
    "Before checking the solution, try copy-pasting your code into this repl: \n",
    "\n",
    "[https://repl.it/@appbrewery/day-3-1-test-your-code](https://repl.it/@appbrewery/day-3-1-test-your-code)\n",
    "\n",
    "This repl includes my testing code that will check if your code meets this assignment's objectives. \n",
    "\n",
    "# Solution\n",
    "\n",
    "[https://repl.it/@appbrewery/day-3-1-solution](https://repl.it/@appbrewery/day-3-1-solution)"
   ]
  },
  {
   "cell_type": "code",
   "execution_count": 15,
   "metadata": {},
   "outputs": [
    {
     "name": "stdout",
     "output_type": "stream",
     "text": [
      "Please enter a number: 12548\n",
      "12548 is an even number\n"
     ]
    }
   ],
   "source": [
    "num = int(input('Please enter a number: '))\n",
    "\n",
    "if num%2 == 0:\n",
    "    print(f'{num} is an even number')\n",
    "else:\n",
    "    print(f'{num} is an odd number')"
   ]
  },
  {
   "cell_type": "markdown",
   "metadata": {},
   "source": [
    "## 3.3 Nested if statements\n",
    "\n",
    "using the rollercoaster example from earlier add price per age"
   ]
  },
  {
   "cell_type": "code",
   "execution_count": 11,
   "metadata": {},
   "outputs": [
    {
     "name": "stdout",
     "output_type": "stream",
     "text": [
      "Please enter your height in cm 120\n",
      "Please enter your age65\n",
      "Price = £5\n"
     ]
    }
   ],
   "source": [
    "height = int(input('Please enter your height in cm '))\n",
    "\n",
    "if height >= 120:\n",
    "    age = int(input('Please enter your age'))\n",
    "    if age <=12 or age >= 65:\n",
    "        print('Price = £5')\n",
    "    elif age <18:\n",
    "        print('Price is £7')\n",
    "    else:\n",
    "        print('Price is £12')\n",
    "else:\n",
    "    print('Sorry, you are too small for this ride, come back when you have grown a little')"
   ]
  },
  {
   "cell_type": "markdown",
   "metadata": {},
   "source": [
    "## BMI Calculator 2.0\n",
    "\n",
    "# Instructions\n",
    "\n",
    "Write a program that interprets the Body Mass Index (BMI) based on a user's weight and height.\n",
    "\n",
    "It should tell them the interpretation of their BMI based on the BMI value.\n",
    "\n",
    "- Under 18.5 they are underweight\n",
    "- Over 18.5 but below 25 they have a normal weight\n",
    "- Over 25 but below 30 they are slightly overweight\n",
    "- Over 30 but below 35 they are obese\n",
    "- Above 35 they are clinically obese.\n",
    "\n",
    "![](https://cdn.fs.teachablecdn.com/qTOp8afxSkGfU5YGYf36)\n",
    "\n",
    "The BMI is calculated by dividing a person's weight (in kg) by the square of their height (in m):\n",
    "\n",
    "![](https://cdn.fs.teachablecdn.com/jKHjnLrNQjqzdz3MTMyv)\n",
    "\n",
    "**Warning** you should **round** the result to the nearest whole number. The interpretation message needs to include the words in bold from the interpretations above. e.g. **underweight, normal weight,  overweight, obese, clinically obese**. \n",
    "\n",
    "# Example Input\n",
    "\n",
    "```\n",
    "weight = 85\n",
    "```\n",
    "\n",
    "```\n",
    "height = 1.75\n",
    "```\n",
    "\n",
    "# Example Output\n",
    "\n",
    "85 ÷ (1.75 x 1.75) =  27.755102040816325\n",
    "\n",
    "```\n",
    "Your BMI is 28, you are slightly overweight.\n",
    "```\n",
    "\n",
    "e.g. When you hit **run**, this is what should happen:   \n",
    "\n",
    "![](https://cdn.fs.teachablecdn.com/mGRynIETXuVqoDk8unci)\n",
    "\n",
    "The testing code will check for print output that is formatted like one of the lines below:\n",
    "\n",
    "```\n",
    "\"Your BMI is 18, you are underweight.\"\n",
    "\"Your BMI is 22, you have a normal weight.\"\n",
    "\"Your BMI is 28, you are slightly overweight.\"\n",
    "\"Your BMI is 33, you are obese.\"\n",
    "\"Your BMI is 40, you are clinically obese.\"\n",
    "```\n",
    "\n",
    "Hint\n",
    "\n",
    "1. Try to use the **exponent** operator in your code.\n",
    "2. Remember to **round** your result to the nearest whole number. \n",
    "3. Make sure you include the words in **bold** from the interpretations. \n",
    "\n",
    "# Test Your Code\n",
    "\n",
    "Before checking the solution, try copy-pasting your code into this repl: \n",
    "\n",
    "[https://repl.it/@appbrewery/day-3-2-test-your-code](https://repl.it/@appbrewery/day-3-2-test-your-code)\n",
    "\n",
    "This repl includes my testing code that will check if your code meets this assignment's objectives. \n",
    "\n",
    "\n",
    "\n",
    "\n",
    "# Solution\n",
    "\n",
    "[https://repl.it/@appbrewery/day-3-2-solution](https://repl.it/@appbrewery/day-3-2-solution)"
   ]
  },
  {
   "cell_type": "code",
   "execution_count": null,
   "metadata": {},
   "outputs": [],
   "source": [
    "height = float(input('Please enter your height (m):'))\n",
    "weight = float(input('Please enter your weight (Kg):'))\n",
    "\n",
    "# Calculate the BMI and convert to an integer\n",
    "bmi = int(weight/(height**2))\n",
    "\n",
    "print(f\"Your BMI is: {bmi}\")\n",
    "\n"
   ]
  }
 ],
 "metadata": {
  "kernelspec": {
   "display_name": "Python 3",
   "language": "python",
   "name": "python3"
  },
  "language_info": {
   "codemirror_mode": {
    "name": "ipython",
    "version": 3
   },
   "file_extension": ".py",
   "mimetype": "text/x-python",
   "name": "python",
   "nbconvert_exporter": "python",
   "pygments_lexer": "ipython3",
   "version": "3.8.5"
  }
 },
 "nbformat": 4,
 "nbformat_minor": 4
}
